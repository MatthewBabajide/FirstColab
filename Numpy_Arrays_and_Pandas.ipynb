{
  "cells": [
    {
      "cell_type": "markdown",
      "metadata": {
        "id": "view-in-github",
        "colab_type": "text"
      },
      "source": [
        "<a href=\"https://colab.research.google.com/github/MatthewBabajide/FirstColab/blob/master/Numpy_Arrays_and_Pandas.ipynb\" target=\"_parent\"><img src=\"https://colab.research.google.com/assets/colab-badge.svg\" alt=\"Open In Colab\"/></a>"
      ]
    },
    {
      "cell_type": "code",
      "execution_count": null,
      "metadata": {
        "id": "6P_H7vtbHivP",
        "outputId": "cc1c68f5-4e93-4d3b-fca4-84db8cae5fac"
      },
      "outputs": [
        {
          "name": "stdout",
          "output_type": "stream",
          "text": [
            "<class 'numpy.ndarray'>\n"
          ]
        }
      ],
      "source": [
        "# Create 2 new lists height and weight\n",
        "height = [1.87,  1.87, 1.82, 1.91, 1.90, 1.85]\n",
        "weight = [81.65, 97.52, 95.25, 92.98, 86.18, 88.45]\n",
        "\n",
        "# Import the numpy package as np\n",
        "import numpy as np\n",
        "\n",
        "# Create 2 numpy arrays from height and weight\n",
        "np_height = np.array(height)\n",
        "np_weight = np.array(weight)\n",
        "\n",
        "print(type(np_height))"
      ]
    },
    {
      "cell_type": "code",
      "execution_count": null,
      "metadata": {
        "id": "n2-Nli9qHivQ",
        "outputId": "1baa4553-ce99-4a99-f1b2-f4b15e84c855"
      },
      "outputs": [
        {
          "name": "stdout",
          "output_type": "stream",
          "text": [
            "[23.34925219 27.88755755 28.75558507 25.48723993 23.87257618 25.84368152]\n"
          ]
        }
      ],
      "source": [
        "# Calculate bmi\n",
        "bmi = np_weight / np_height ** 2\n",
        "\n",
        "# Print the result\n",
        "print(bmi)"
      ]
    },
    {
      "cell_type": "code",
      "execution_count": null,
      "metadata": {
        "id": "ydgC86ElHivR",
        "outputId": "9f1fc7ca-4f30-4b3f-f278-9bf725c046a9"
      },
      "outputs": [
        {
          "data": {
            "text/plain": [
              "array([27.88755755, 28.75558507, 25.48723993, 25.84368152])"
            ]
          },
          "execution_count": 30,
          "metadata": {},
          "output_type": "execute_result"
        }
      ],
      "source": [
        "# For a boolean response\n",
        "bmi > 25\n",
        "\n",
        "# Print only those observations above 23\n",
        "bmi[bmi > 25]"
      ]
    },
    {
      "cell_type": "code",
      "execution_count": null,
      "metadata": {
        "id": "DoIqvO42HivR",
        "outputId": "5a88c856-4bd9-400b-ea04-bc71360c1fac"
      },
      "outputs": [
        {
          "name": "stdout",
          "output_type": "stream",
          "text": [
            "        country    capital    area  population\n",
            "0        Brazil   Brasilia   8.516      200.40\n",
            "1        Russia     Moscow  17.100      143.50\n",
            "2         India  New Dehli   3.286     1252.00\n",
            "3         China    Beijing   9.597     1357.00\n",
            "4  South Africa   Pretoria   1.221       52.98\n"
          ]
        }
      ],
      "source": [
        "dict = {\"country\": [\"Brazil\", \"Russia\", \"India\", \"China\", \"South Africa\"],\n",
        "       \"capital\": [\"Brasilia\", \"Moscow\", \"New Dehli\", \"Beijing\", \"Pretoria\"],\n",
        "       \"area\": [8.516, 17.10, 3.286, 9.597, 1.221],\n",
        "       \"population\": [200.4, 143.5, 1252, 1357, 52.98] }\n",
        "\n",
        "import pandas as pd\n",
        "brics = pd.DataFrame(dict)\n",
        "print(brics)"
      ]
    },
    {
      "cell_type": "code",
      "execution_count": null,
      "metadata": {
        "id": "5vOs3Ym2HivR",
        "outputId": "bc455c47-3256-44aa-a1e8-2a5d3bb7f96d"
      },
      "outputs": [
        {
          "name": "stdout",
          "output_type": "stream",
          "text": [
            "         country    capital    area  population\n",
            "BR        Brazil   Brasilia   8.516      200.40\n",
            "RU        Russia     Moscow  17.100      143.50\n",
            "IN         India  New Dehli   3.286     1252.00\n",
            "CH         China    Beijing   9.597     1357.00\n",
            "SA  South Africa   Pretoria   1.221       52.98\n"
          ]
        }
      ],
      "source": [
        "# Set the index for brics\n",
        "brics.index = [\"BR\", \"RU\", \"IN\", \"CH\", \"SA\"]\n",
        "\n",
        "# Print out brics with new index values\n",
        "print(brics)"
      ]
    },
    {
      "cell_type": "code",
      "execution_count": null,
      "metadata": {
        "id": "_SOU40a-HivR",
        "outputId": "9e497f60-3ac6-4444-bb8a-922b39d2d9e5"
      },
      "outputs": [
        {
          "name": "stdout",
          "output_type": "stream",
          "text": [
            "<class 'list'>\n"
          ]
        }
      ],
      "source": [
        "arr = [3,4,5,6]\n",
        "print (type(arr))"
      ]
    },
    {
      "cell_type": "code",
      "execution_count": null,
      "metadata": {
        "id": "ffOrykVpHivR",
        "outputId": "70345498-e0ce-4046-f073-1e6b071c0452"
      },
      "outputs": [
        {
          "name": "stdout",
          "output_type": "stream",
          "text": [
            "[3 1 3 1 1 2 1 1 2 2 3 5 5 4 4 2 5 4 3 3]\n"
          ]
        }
      ],
      "source": [
        "from numpy import random\n",
        "\n",
        "#this is to generate a random number from the \"choice\" and the probabilities of each choice given below\n",
        "x = random.choice([1, 2, 3, 4, 5, 6], p=[0.18, 0.18, 0.18, 0.18, 0.18, 0.1], size=(20))\n",
        "\n",
        "print(x)"
      ]
    },
    {
      "cell_type": "code",
      "execution_count": null,
      "metadata": {
        "id": "-ckhGd5FHivS",
        "outputId": "0863b81c-8e4a-4076-d127-5738edb09a71"
      },
      "outputs": [
        {
          "name": "stdout",
          "output_type": "stream",
          "text": [
            "Requirement already satisfied: seaborn in c:\\users\\test\\anaconda3\\lib\\site-packages (0.10.0)\n",
            "Requirement already satisfied: pandas>=0.22.0 in c:\\users\\test\\anaconda3\\lib\\site-packages (from seaborn) (1.0.1)\n",
            "Requirement already satisfied: numpy>=1.13.3 in c:\\users\\test\\anaconda3\\lib\\site-packages (from seaborn) (1.18.1)\n",
            "Requirement already satisfied: matplotlib>=2.1.2 in c:\\users\\test\\anaconda3\\lib\\site-packages (from seaborn) (3.2.2)\n",
            "Requirement already satisfied: scipy>=1.0.1 in c:\\users\\test\\anaconda3\\lib\\site-packages (from seaborn) (1.4.1)\n",
            "Requirement already satisfied: python-dateutil>=2.6.1 in c:\\users\\test\\anaconda3\\lib\\site-packages (from pandas>=0.22.0->seaborn) (2.8.1)\n",
            "Requirement already satisfied: pytz>=2017.2 in c:\\users\\test\\anaconda3\\lib\\site-packages (from pandas>=0.22.0->seaborn) (2019.3)\n",
            "Requirement already satisfied: cycler>=0.10 in c:\\users\\test\\anaconda3\\lib\\site-packages (from matplotlib>=2.1.2->seaborn) (0.10.0)\n",
            "Requirement already satisfied: kiwisolver>=1.0.1 in c:\\users\\test\\anaconda3\\lib\\site-packages (from matplotlib>=2.1.2->seaborn) (1.1.0)\n",
            "Requirement already satisfied: pyparsing!=2.0.4,!=2.1.2,!=2.1.6,>=2.0.1 in c:\\users\\test\\anaconda3\\lib\\site-packages (from matplotlib>=2.1.2->seaborn) (2.4.6)\n",
            "Requirement already satisfied: six>=1.5 in c:\\users\\test\\anaconda3\\lib\\site-packages (from python-dateutil>=2.6.1->pandas>=0.22.0->seaborn) (1.14.0)\n",
            "Requirement already satisfied: setuptools in c:\\users\\test\\anaconda3\\lib\\site-packages (from kiwisolver>=1.0.1->matplotlib>=2.1.2->seaborn) (45.2.0.post20200210)\n"
          ]
        }
      ],
      "source": [
        "!pip install seaborn"
      ]
    },
    {
      "cell_type": "code",
      "execution_count": null,
      "metadata": {
        "id": "GjlJ--DKHivS",
        "outputId": "3085d79c-f19e-4e8a-c580-82a417193705"
      },
      "outputs": [
        {
          "name": "stdout",
          "output_type": "stream",
          "text": [
            "[[0. 0. 0.]\n",
            " [0. 0. 0.]]\n"
          ]
        }
      ],
      "source": [
        "print (np.zeros((2,3)))"
      ]
    },
    {
      "cell_type": "code",
      "execution_count": null,
      "metadata": {
        "id": "uJ1tASNPHivS",
        "outputId": "83cf1307-5d1b-4356-cbca-310752071108"
      },
      "outputs": [
        {
          "name": "stdout",
          "output_type": "stream",
          "text": [
            "[[0. 0. 0.]\n",
            " [0. 0. 0.]]\n"
          ]
        }
      ],
      "source": [
        "import numpy as np\n",
        "\n",
        "a = np.zeros((2,3))\n",
        "print (a)"
      ]
    },
    {
      "cell_type": "code",
      "execution_count": null,
      "metadata": {
        "id": "4CbYnXDVHivS",
        "outputId": "da5a3c35-e7ac-4339-a24a-52927afdd5d8"
      },
      "outputs": [
        {
          "name": "stdout",
          "output_type": "stream",
          "text": [
            "[[1. 1. 1.]\n",
            " [1. 1. 1.]]\n"
          ]
        }
      ],
      "source": [
        "import numpy as np\n",
        "\n",
        "a = np.ones((2,3))\n",
        "print (a)"
      ]
    },
    {
      "cell_type": "code",
      "execution_count": null,
      "metadata": {
        "id": "Ic_cT1bDHivS",
        "outputId": "74034b50-d399-4c47-fe0c-24b6e02732f7"
      },
      "outputs": [
        {
          "name": "stdout",
          "output_type": "stream",
          "text": [
            "[[1 0 1]\n",
            " [1 0 1]]\n"
          ]
        }
      ],
      "source": [
        "import numpy as np\n",
        "\n",
        "a = np.full((2, 3), [1, 0 ,1])\n",
        "print (a)"
      ]
    },
    {
      "cell_type": "code",
      "execution_count": null,
      "metadata": {
        "id": "d9ue3LTbHivT",
        "outputId": "b0261a94-7801-45c6-f09a-1394f848d4ae"
      },
      "outputs": [
        {
          "name": "stdout",
          "output_type": "stream",
          "text": [
            "[[1. 0. 0.]\n",
            " [0. 1. 0.]\n",
            " [0. 0. 1.]]\n"
          ]
        }
      ],
      "source": [
        "import numpy as np\n",
        "\n",
        "a = np.identity(3)\n",
        "print (a)"
      ]
    },
    {
      "cell_type": "code",
      "execution_count": null,
      "metadata": {
        "id": "sd15fdIbHivT",
        "outputId": "95991742-62bf-42ea-94e2-b63409efdf6f"
      },
      "outputs": [
        {
          "name": "stdout",
          "output_type": "stream",
          "text": [
            "[0, 1, 1, 2, 3, 5, 8, 13, 21]\n"
          ]
        }
      ],
      "source": [
        "#Fibonacci sequence\n",
        "\n",
        "x, y= 0, 1\n",
        "fib_seq = [x, y]\n",
        "\n",
        "while (y < 21):\n",
        "    x, y= y, x+y\n",
        "    fib_seq.append(y)\n",
        "    \n",
        "    \n",
        "print (fib_seq)\n",
        "    \n"
      ]
    },
    {
      "cell_type": "code",
      "execution_count": null,
      "metadata": {
        "id": "sT5ggxCuHivU",
        "outputId": "ac38cbfd-cb9a-41cf-9dde-4899f5e14307"
      },
      "outputs": [
        {
          "name": "stdout",
          "output_type": "stream",
          "text": [
            "[[[ 1.64078637  1.68765496  1.56330805]\n",
            "  [-0.82014433 -0.0325888  -1.19418049]]\n",
            "\n",
            " [[ 2.32472689 -1.40087598 -2.37913018]\n",
            "  [ 0.25047392  1.88341311 -0.51251027]]\n",
            "\n",
            " [[ 0.60840086 -0.52406335  0.82261586]\n",
            "  [ 0.86971644 -0.46374137 -0.50257122]]\n",
            "\n",
            " [[ 1.13191017 -0.99802875  1.05236713]\n",
            "  [-0.39231046 -1.20835509  1.21342173]]\n",
            "\n",
            " [[ 0.67254676 -0.74206855 -0.01429169]\n",
            "  [ 1.00423145  0.14300924  0.18735805]]\n",
            "\n",
            " [[ 1.13191383 -0.2627261  -2.0037709 ]\n",
            "  [-0.08836205  0.31622875 -0.11084574]]\n",
            "\n",
            " [[-2.97212651  0.67966705  0.19423749]\n",
            "  [ 0.10867098  0.31912498 -1.47050476]]\n",
            "\n",
            " [[ 0.48045035 -1.51551661  1.73905538]\n",
            "  [-1.27716072  0.08900974  1.90238253]]\n",
            "\n",
            " [[-0.14966738 -0.99159106  1.26999643]\n",
            "  [-0.54415037  0.02869158  0.44296501]]\n",
            "\n",
            " [[ 1.437573   -2.27937114  1.02993865]\n",
            "  [ 0.96551116 -1.29412788 -0.69555757]]]\n"
          ]
        }
      ],
      "source": [
        "print (np.random.randn(10, 2, 3))"
      ]
    },
    {
      "cell_type": "code",
      "execution_count": null,
      "metadata": {
        "id": "_1PMiiXaHivU",
        "outputId": "6e49f444-a81c-4b82-cb2d-bc88b529532b"
      },
      "outputs": [
        {
          "name": "stdout",
          "output_type": "stream",
          "text": [
            "[0.74691263 0.74729891 0.91735302 0.05076807 0.2982497  0.42798949\n",
            " 0.17382339 0.78290545 0.63233906 0.94649509]\n"
          ]
        }
      ],
      "source": [
        "print (np.random.random(10))"
      ]
    },
    {
      "cell_type": "code",
      "execution_count": null,
      "metadata": {
        "id": "F4yqKqnfHivU",
        "outputId": "9c5c39c3-f9f2-4ed2-cac3-f7e027e73c66"
      },
      "outputs": [
        {
          "data": {
            "text/html": [
              "<div>\n",
              "<style scoped>\n",
              "    .dataframe tbody tr th:only-of-type {\n",
              "        vertical-align: middle;\n",
              "    }\n",
              "\n",
              "    .dataframe tbody tr th {\n",
              "        vertical-align: top;\n",
              "    }\n",
              "\n",
              "    .dataframe thead th {\n",
              "        text-align: right;\n",
              "    }\n",
              "</style>\n",
              "<table border=\"1\" class=\"dataframe\">\n",
              "  <thead>\n",
              "    <tr style=\"text-align: right;\">\n",
              "      <th></th>\n",
              "      <th>col1</th>\n",
              "      <th>col2</th>\n",
              "    </tr>\n",
              "  </thead>\n",
              "  <tbody>\n",
              "    <tr>\n",
              "      <th>0</th>\n",
              "      <td>1</td>\n",
              "      <td>3</td>\n",
              "    </tr>\n",
              "    <tr>\n",
              "      <th>1</th>\n",
              "      <td>2</td>\n",
              "      <td>4</td>\n",
              "    </tr>\n",
              "  </tbody>\n",
              "</table>\n",
              "</div>"
            ],
            "text/plain": [
              "   col1  col2\n",
              "0     1     3\n",
              "1     2     4"
            ]
          },
          "execution_count": 44,
          "metadata": {},
          "output_type": "execute_result"
        }
      ],
      "source": [
        "import pandas as pd\n",
        "\n",
        "d = {'col1': [1, 2], 'col2': [3, 4]}\n",
        "df = pd.DataFrame(d)\n",
        "df"
      ]
    },
    {
      "cell_type": "code",
      "execution_count": null,
      "metadata": {
        "id": "hF_tZBQxHivU",
        "outputId": "c71b30ea-a0b4-4c94-a755-eb72ea3a1501"
      },
      "outputs": [
        {
          "data": {
            "text/html": [
              "<div>\n",
              "<style scoped>\n",
              "    .dataframe tbody tr th:only-of-type {\n",
              "        vertical-align: middle;\n",
              "    }\n",
              "\n",
              "    .dataframe tbody tr th {\n",
              "        vertical-align: top;\n",
              "    }\n",
              "\n",
              "    .dataframe thead th {\n",
              "        text-align: right;\n",
              "    }\n",
              "</style>\n",
              "<table border=\"1\" class=\"dataframe\">\n",
              "  <thead>\n",
              "    <tr style=\"text-align: right;\">\n",
              "      <th></th>\n",
              "      <th>A</th>\n",
              "      <th>B</th>\n",
              "      <th>C</th>\n",
              "      <th>D</th>\n",
              "    </tr>\n",
              "  </thead>\n",
              "  <tbody>\n",
              "    <tr>\n",
              "      <th>2013-01-01</th>\n",
              "      <td>-0.330839</td>\n",
              "      <td>0.487052</td>\n",
              "      <td>-0.277278</td>\n",
              "      <td>-0.017894</td>\n",
              "    </tr>\n",
              "    <tr>\n",
              "      <th>2013-01-02</th>\n",
              "      <td>-0.500477</td>\n",
              "      <td>-1.919782</td>\n",
              "      <td>1.429431</td>\n",
              "      <td>0.034463</td>\n",
              "    </tr>\n",
              "    <tr>\n",
              "      <th>2013-01-03</th>\n",
              "      <td>0.200398</td>\n",
              "      <td>0.556380</td>\n",
              "      <td>0.392993</td>\n",
              "      <td>0.053628</td>\n",
              "    </tr>\n",
              "    <tr>\n",
              "      <th>2013-01-04</th>\n",
              "      <td>0.797396</td>\n",
              "      <td>1.640725</td>\n",
              "      <td>-0.507971</td>\n",
              "      <td>-0.117631</td>\n",
              "    </tr>\n",
              "    <tr>\n",
              "      <th>2013-01-05</th>\n",
              "      <td>0.694327</td>\n",
              "      <td>-0.631434</td>\n",
              "      <td>-0.606401</td>\n",
              "      <td>-0.061020</td>\n",
              "    </tr>\n",
              "    <tr>\n",
              "      <th>2013-01-06</th>\n",
              "      <td>-0.356058</td>\n",
              "      <td>0.828836</td>\n",
              "      <td>0.150624</td>\n",
              "      <td>-0.722275</td>\n",
              "    </tr>\n",
              "  </tbody>\n",
              "</table>\n",
              "</div>"
            ],
            "text/plain": [
              "                   A         B         C         D\n",
              "2013-01-01 -0.330839  0.487052 -0.277278 -0.017894\n",
              "2013-01-02 -0.500477 -1.919782  1.429431  0.034463\n",
              "2013-01-03  0.200398  0.556380  0.392993  0.053628\n",
              "2013-01-04  0.797396  1.640725 -0.507971 -0.117631\n",
              "2013-01-05  0.694327 -0.631434 -0.606401 -0.061020\n",
              "2013-01-06 -0.356058  0.828836  0.150624 -0.722275"
            ]
          },
          "execution_count": 45,
          "metadata": {},
          "output_type": "execute_result"
        }
      ],
      "source": [
        "dates = pd.date_range('20130101', periods=6)\n",
        "df = pd.DataFrame(np.random.randn(6, 4), index=dates, columns=list('ABCD'))\n",
        "\n",
        "df"
      ]
    },
    {
      "cell_type": "code",
      "execution_count": null,
      "metadata": {
        "id": "ykvSWuUvHivU",
        "outputId": "397fc30a-ab18-4fe6-9600-258c5cfaa3e6"
      },
      "outputs": [
        {
          "data": {
            "text/plain": [
              "DatetimeIndex(['2013-01-01', '2013-01-02', '2013-01-03', '2013-01-04',\n",
              "               '2013-01-05', '2013-01-06'],\n",
              "              dtype='datetime64[ns]', freq='D')"
            ]
          },
          "execution_count": 46,
          "metadata": {},
          "output_type": "execute_result"
        }
      ],
      "source": [
        "df.index"
      ]
    },
    {
      "cell_type": "code",
      "execution_count": null,
      "metadata": {
        "id": "ghxDg7FvHivU",
        "outputId": "86a4d468-e7b8-4648-c4f0-a363bddc3132"
      },
      "outputs": [
        {
          "data": {
            "text/plain": [
              "array(['2', '3', '4'], dtype='<U1')"
            ]
          },
          "execution_count": 47,
          "metadata": {},
          "output_type": "execute_result"
        }
      ],
      "source": [
        "a = np.array([\"2\",3, 4])\n",
        "\n",
        "a"
      ]
    },
    {
      "cell_type": "code",
      "execution_count": null,
      "metadata": {
        "id": "f5CC5hgJHivV",
        "outputId": "2c17d581-6225-49d8-e6ba-010afaeaf29c"
      },
      "outputs": [
        {
          "data": {
            "text/html": [
              "<div>\n",
              "<style scoped>\n",
              "    .dataframe tbody tr th:only-of-type {\n",
              "        vertical-align: middle;\n",
              "    }\n",
              "\n",
              "    .dataframe tbody tr th {\n",
              "        vertical-align: top;\n",
              "    }\n",
              "\n",
              "    .dataframe thead th {\n",
              "        text-align: right;\n",
              "    }\n",
              "</style>\n",
              "<table border=\"1\" class=\"dataframe\">\n",
              "  <thead>\n",
              "    <tr style=\"text-align: right;\">\n",
              "      <th></th>\n",
              "      <th>A</th>\n",
              "      <th>B</th>\n",
              "      <th>C</th>\n",
              "      <th>D</th>\n",
              "    </tr>\n",
              "  </thead>\n",
              "  <tbody>\n",
              "    <tr>\n",
              "      <th>2013-01-01</th>\n",
              "      <td>0.373145</td>\n",
              "      <td>1.921036</td>\n",
              "      <td>0.323088</td>\n",
              "      <td>2.334697</td>\n",
              "    </tr>\n",
              "    <tr>\n",
              "      <th>2013-01-02</th>\n",
              "      <td>-0.043298</td>\n",
              "      <td>-0.122025</td>\n",
              "      <td>0.842979</td>\n",
              "      <td>0.524303</td>\n",
              "    </tr>\n",
              "    <tr>\n",
              "      <th>2013-01-03</th>\n",
              "      <td>-0.532161</td>\n",
              "      <td>1.465240</td>\n",
              "      <td>1.860939</td>\n",
              "      <td>-0.614883</td>\n",
              "    </tr>\n",
              "    <tr>\n",
              "      <th>2013-01-04</th>\n",
              "      <td>-0.186889</td>\n",
              "      <td>-0.097844</td>\n",
              "      <td>0.295218</td>\n",
              "      <td>0.663471</td>\n",
              "    </tr>\n",
              "    <tr>\n",
              "      <th>2013-01-05</th>\n",
              "      <td>-1.279110</td>\n",
              "      <td>-1.716260</td>\n",
              "      <td>-0.149833</td>\n",
              "      <td>1.465214</td>\n",
              "    </tr>\n",
              "    <tr>\n",
              "      <th>2013-01-06</th>\n",
              "      <td>0.156695</td>\n",
              "      <td>-0.879946</td>\n",
              "      <td>1.839508</td>\n",
              "      <td>-0.521941</td>\n",
              "    </tr>\n",
              "  </tbody>\n",
              "</table>\n",
              "</div>"
            ],
            "text/plain": [
              "                   A         B         C         D\n",
              "2013-01-01  0.373145  1.921036  0.323088  2.334697\n",
              "2013-01-02 -0.043298 -0.122025  0.842979  0.524303\n",
              "2013-01-03 -0.532161  1.465240  1.860939 -0.614883\n",
              "2013-01-04 -0.186889 -0.097844  0.295218  0.663471\n",
              "2013-01-05 -1.279110 -1.716260 -0.149833  1.465214\n",
              "2013-01-06  0.156695 -0.879946  1.839508 -0.521941"
            ]
          },
          "execution_count": 48,
          "metadata": {},
          "output_type": "execute_result"
        }
      ],
      "source": [
        "import pandas as pd\n",
        "\n",
        "dfdates = pd.date_range('20130101', periods=6)\n",
        "df = pd.DataFrame(np.random.randn(6, 4), index=dates, columns=list('ABCD'))\n",
        "\n",
        "df\n"
      ]
    },
    {
      "cell_type": "code",
      "execution_count": null,
      "metadata": {
        "id": "a3YJueuuHivV",
        "outputId": "dc96b625-9648-49f1-91bc-62734737f318"
      },
      "outputs": [
        {
          "data": {
            "text/html": [
              "<div>\n",
              "<style scoped>\n",
              "    .dataframe tbody tr th:only-of-type {\n",
              "        vertical-align: middle;\n",
              "    }\n",
              "\n",
              "    .dataframe tbody tr th {\n",
              "        vertical-align: top;\n",
              "    }\n",
              "\n",
              "    .dataframe thead th {\n",
              "        text-align: right;\n",
              "    }\n",
              "</style>\n",
              "<table border=\"1\" class=\"dataframe\">\n",
              "  <thead>\n",
              "    <tr style=\"text-align: right;\">\n",
              "      <th></th>\n",
              "      <th>A</th>\n",
              "      <th>B</th>\n",
              "      <th>C</th>\n",
              "      <th>D</th>\n",
              "    </tr>\n",
              "  </thead>\n",
              "  <tbody>\n",
              "    <tr>\n",
              "      <th>2013-01-06</th>\n",
              "      <td>0.156695</td>\n",
              "      <td>-0.879946</td>\n",
              "      <td>1.839508</td>\n",
              "      <td>-0.521941</td>\n",
              "    </tr>\n",
              "    <tr>\n",
              "      <th>2013-01-05</th>\n",
              "      <td>-1.279110</td>\n",
              "      <td>-1.716260</td>\n",
              "      <td>-0.149833</td>\n",
              "      <td>1.465214</td>\n",
              "    </tr>\n",
              "    <tr>\n",
              "      <th>2013-01-04</th>\n",
              "      <td>-0.186889</td>\n",
              "      <td>-0.097844</td>\n",
              "      <td>0.295218</td>\n",
              "      <td>0.663471</td>\n",
              "    </tr>\n",
              "    <tr>\n",
              "      <th>2013-01-03</th>\n",
              "      <td>-0.532161</td>\n",
              "      <td>1.465240</td>\n",
              "      <td>1.860939</td>\n",
              "      <td>-0.614883</td>\n",
              "    </tr>\n",
              "    <tr>\n",
              "      <th>2013-01-02</th>\n",
              "      <td>-0.043298</td>\n",
              "      <td>-0.122025</td>\n",
              "      <td>0.842979</td>\n",
              "      <td>0.524303</td>\n",
              "    </tr>\n",
              "    <tr>\n",
              "      <th>2013-01-01</th>\n",
              "      <td>0.373145</td>\n",
              "      <td>1.921036</td>\n",
              "      <td>0.323088</td>\n",
              "      <td>2.334697</td>\n",
              "    </tr>\n",
              "  </tbody>\n",
              "</table>\n",
              "</div>"
            ],
            "text/plain": [
              "                   A         B         C         D\n",
              "2013-01-06  0.156695 -0.879946  1.839508 -0.521941\n",
              "2013-01-05 -1.279110 -1.716260 -0.149833  1.465214\n",
              "2013-01-04 -0.186889 -0.097844  0.295218  0.663471\n",
              "2013-01-03 -0.532161  1.465240  1.860939 -0.614883\n",
              "2013-01-02 -0.043298 -0.122025  0.842979  0.524303\n",
              "2013-01-01  0.373145  1.921036  0.323088  2.334697"
            ]
          },
          "execution_count": 49,
          "metadata": {},
          "output_type": "execute_result"
        }
      ],
      "source": [
        "df.sort_index(axis=0, ascending=False)"
      ]
    },
    {
      "cell_type": "code",
      "execution_count": null,
      "metadata": {
        "id": "cI-uJ0PmHivV",
        "outputId": "f2abf71b-1711-4315-c54b-9516d96db9b0"
      },
      "outputs": [
        {
          "data": {
            "text/html": [
              "<div>\n",
              "<style scoped>\n",
              "    .dataframe tbody tr th:only-of-type {\n",
              "        vertical-align: middle;\n",
              "    }\n",
              "\n",
              "    .dataframe tbody tr th {\n",
              "        vertical-align: top;\n",
              "    }\n",
              "\n",
              "    .dataframe thead th {\n",
              "        text-align: right;\n",
              "    }\n",
              "</style>\n",
              "<table border=\"1\" class=\"dataframe\">\n",
              "  <thead>\n",
              "    <tr style=\"text-align: right;\">\n",
              "      <th></th>\n",
              "      <th>A</th>\n",
              "      <th>B</th>\n",
              "      <th>C</th>\n",
              "      <th>D</th>\n",
              "      <th>E</th>\n",
              "    </tr>\n",
              "  </thead>\n",
              "  <tbody>\n",
              "    <tr>\n",
              "      <th>2013-01-01</th>\n",
              "      <td>0.373145</td>\n",
              "      <td>1.921036</td>\n",
              "      <td>0.323088</td>\n",
              "      <td>2.334697</td>\n",
              "      <td>one</td>\n",
              "    </tr>\n",
              "    <tr>\n",
              "      <th>2013-01-02</th>\n",
              "      <td>-0.043298</td>\n",
              "      <td>-0.122025</td>\n",
              "      <td>0.842979</td>\n",
              "      <td>0.524303</td>\n",
              "      <td>one</td>\n",
              "    </tr>\n",
              "    <tr>\n",
              "      <th>2013-01-03</th>\n",
              "      <td>-0.532161</td>\n",
              "      <td>1.465240</td>\n",
              "      <td>1.860939</td>\n",
              "      <td>-0.614883</td>\n",
              "      <td>two</td>\n",
              "    </tr>\n",
              "    <tr>\n",
              "      <th>2013-01-04</th>\n",
              "      <td>-0.186889</td>\n",
              "      <td>-0.097844</td>\n",
              "      <td>0.295218</td>\n",
              "      <td>0.663471</td>\n",
              "      <td>three</td>\n",
              "    </tr>\n",
              "    <tr>\n",
              "      <th>2013-01-05</th>\n",
              "      <td>-1.279110</td>\n",
              "      <td>-1.716260</td>\n",
              "      <td>-0.149833</td>\n",
              "      <td>1.465214</td>\n",
              "      <td>four</td>\n",
              "    </tr>\n",
              "    <tr>\n",
              "      <th>2013-01-06</th>\n",
              "      <td>0.156695</td>\n",
              "      <td>-0.879946</td>\n",
              "      <td>1.839508</td>\n",
              "      <td>-0.521941</td>\n",
              "      <td>three</td>\n",
              "    </tr>\n",
              "  </tbody>\n",
              "</table>\n",
              "</div>"
            ],
            "text/plain": [
              "                   A         B         C         D      E\n",
              "2013-01-01  0.373145  1.921036  0.323088  2.334697    one\n",
              "2013-01-02 -0.043298 -0.122025  0.842979  0.524303    one\n",
              "2013-01-03 -0.532161  1.465240  1.860939 -0.614883    two\n",
              "2013-01-04 -0.186889 -0.097844  0.295218  0.663471  three\n",
              "2013-01-05 -1.279110 -1.716260 -0.149833  1.465214   four\n",
              "2013-01-06  0.156695 -0.879946  1.839508 -0.521941  three"
            ]
          },
          "execution_count": 55,
          "metadata": {},
          "output_type": "execute_result"
        }
      ],
      "source": [
        "df2 = df.copy()\n",
        "\n",
        "df2['E'] = ['one', 'one', 'two', 'three', 'four', 'three']\n",
        "\n",
        "df2"
      ]
    },
    {
      "cell_type": "code",
      "execution_count": null,
      "metadata": {
        "id": "DbTniM14HivV",
        "outputId": "44c15903-9284-4e1b-91a2-6ae9c50c0248"
      },
      "outputs": [
        {
          "data": {
            "text/plain": [
              "0       Food\n",
              "1      Music\n",
              "2    Clothes\n",
              "3    Watches\n",
              "dtype: object"
            ]
          },
          "execution_count": 56,
          "metadata": {},
          "output_type": "execute_result"
        }
      ],
      "source": [
        "s= pd.Series([\"Food\", \"Music\", \"Clothes\", \"Watches\"])\n",
        "s"
      ]
    },
    {
      "cell_type": "code",
      "execution_count": null,
      "metadata": {
        "id": "eQNUQb3kHivV"
      },
      "outputs": [],
      "source": [
        "df = pd.DataFrame(np.random.randn(3,4), columns = s)"
      ]
    },
    {
      "cell_type": "code",
      "execution_count": null,
      "metadata": {
        "id": "aHxDTeBxHivV",
        "outputId": "aeccad82-e8c6-4a4c-825f-8a1f8cdbc0e9"
      },
      "outputs": [
        {
          "data": {
            "text/html": [
              "<div>\n",
              "<style scoped>\n",
              "    .dataframe tbody tr th:only-of-type {\n",
              "        vertical-align: middle;\n",
              "    }\n",
              "\n",
              "    .dataframe tbody tr th {\n",
              "        vertical-align: top;\n",
              "    }\n",
              "\n",
              "    .dataframe thead th {\n",
              "        text-align: right;\n",
              "    }\n",
              "</style>\n",
              "<table border=\"1\" class=\"dataframe\">\n",
              "  <thead>\n",
              "    <tr style=\"text-align: right;\">\n",
              "      <th></th>\n",
              "      <th>Food</th>\n",
              "      <th>Music</th>\n",
              "      <th>Clothes</th>\n",
              "      <th>Watches</th>\n",
              "    </tr>\n",
              "  </thead>\n",
              "  <tbody>\n",
              "    <tr>\n",
              "      <th>0</th>\n",
              "      <td>1.369703</td>\n",
              "      <td>-1.068670</td>\n",
              "      <td>0.371120</td>\n",
              "      <td>-0.730377</td>\n",
              "    </tr>\n",
              "    <tr>\n",
              "      <th>1</th>\n",
              "      <td>0.662565</td>\n",
              "      <td>0.391807</td>\n",
              "      <td>-1.774878</td>\n",
              "      <td>-0.824161</td>\n",
              "    </tr>\n",
              "    <tr>\n",
              "      <th>2</th>\n",
              "      <td>-0.694242</td>\n",
              "      <td>0.328310</td>\n",
              "      <td>-0.037339</td>\n",
              "      <td>-0.070464</td>\n",
              "    </tr>\n",
              "  </tbody>\n",
              "</table>\n",
              "</div>"
            ],
            "text/plain": [
              "       Food     Music   Clothes   Watches\n",
              "0  1.369703 -1.068670  0.371120 -0.730377\n",
              "1  0.662565  0.391807 -1.774878 -0.824161\n",
              "2 -0.694242  0.328310 -0.037339 -0.070464"
            ]
          },
          "execution_count": 58,
          "metadata": {},
          "output_type": "execute_result"
        }
      ],
      "source": [
        "df"
      ]
    },
    {
      "cell_type": "code",
      "execution_count": null,
      "metadata": {
        "id": "-p8Q1-n3HivV",
        "outputId": "c64db4a2-1a02-489f-d8af-10c8299888d6"
      },
      "outputs": [
        {
          "data": {
            "text/html": [
              "<div>\n",
              "<style scoped>\n",
              "    .dataframe tbody tr th:only-of-type {\n",
              "        vertical-align: middle;\n",
              "    }\n",
              "\n",
              "    .dataframe tbody tr th {\n",
              "        vertical-align: top;\n",
              "    }\n",
              "\n",
              "    .dataframe thead th {\n",
              "        text-align: right;\n",
              "    }\n",
              "</style>\n",
              "<table border=\"1\" class=\"dataframe\">\n",
              "  <thead>\n",
              "    <tr style=\"text-align: right;\">\n",
              "      <th></th>\n",
              "      <th>Food</th>\n",
              "      <th>Music</th>\n",
              "      <th>Clothes</th>\n",
              "      <th>Watches</th>\n",
              "    </tr>\n",
              "  </thead>\n",
              "  <tbody>\n",
              "    <tr>\n",
              "      <th>0</th>\n",
              "      <td>Yam and Eggs</td>\n",
              "      <td>-1.068670</td>\n",
              "      <td>0.371120</td>\n",
              "      <td>-0.730377</td>\n",
              "    </tr>\n",
              "    <tr>\n",
              "      <th>1</th>\n",
              "      <td>Eba and Oha Soup</td>\n",
              "      <td>0.391807</td>\n",
              "      <td>-1.774878</td>\n",
              "      <td>-0.824161</td>\n",
              "    </tr>\n",
              "    <tr>\n",
              "      <th>2</th>\n",
              "      <td>Fried Plaantain</td>\n",
              "      <td>0.328310</td>\n",
              "      <td>-0.037339</td>\n",
              "      <td>-0.070464</td>\n",
              "    </tr>\n",
              "  </tbody>\n",
              "</table>\n",
              "</div>"
            ],
            "text/plain": [
              "               Food     Music   Clothes   Watches\n",
              "0      Yam and Eggs -1.068670  0.371120 -0.730377\n",
              "1  Eba and Oha Soup  0.391807 -1.774878 -0.824161\n",
              "2   Fried Plaantain  0.328310 -0.037339 -0.070464"
            ]
          },
          "execution_count": 59,
          "metadata": {},
          "output_type": "execute_result"
        }
      ],
      "source": [
        "df[\"Food\"] = [\"Yam and Eggs\", \"Eba and Oha Soup\", \"Fried Plaantain\"]\n",
        "df"
      ]
    },
    {
      "cell_type": "code",
      "execution_count": null,
      "metadata": {
        "id": "GOrEnAefHivW",
        "outputId": "3e252437-74a2-4ee8-9a4b-315aacd3f5eb"
      },
      "outputs": [
        {
          "data": {
            "text/html": [
              "<div>\n",
              "<style scoped>\n",
              "    .dataframe tbody tr th:only-of-type {\n",
              "        vertical-align: middle;\n",
              "    }\n",
              "\n",
              "    .dataframe tbody tr th {\n",
              "        vertical-align: top;\n",
              "    }\n",
              "\n",
              "    .dataframe thead th {\n",
              "        text-align: right;\n",
              "    }\n",
              "</style>\n",
              "<table border=\"1\" class=\"dataframe\">\n",
              "  <thead>\n",
              "    <tr style=\"text-align: right;\">\n",
              "      <th></th>\n",
              "      <th>Food</th>\n",
              "      <th>Music</th>\n",
              "      <th>Clothes</th>\n",
              "      <th>Watches</th>\n",
              "      <th>Shoes</th>\n",
              "    </tr>\n",
              "  </thead>\n",
              "  <tbody>\n",
              "    <tr>\n",
              "      <th>0</th>\n",
              "      <td>Yam and Eggs</td>\n",
              "      <td>-1.068670</td>\n",
              "      <td>0.371120</td>\n",
              "      <td>-0.730377</td>\n",
              "      <td>Addidas</td>\n",
              "    </tr>\n",
              "    <tr>\n",
              "      <th>1</th>\n",
              "      <td>Eba and Oha Soup</td>\n",
              "      <td>0.391807</td>\n",
              "      <td>-1.774878</td>\n",
              "      <td>-0.824161</td>\n",
              "      <td>Hightops</td>\n",
              "    </tr>\n",
              "    <tr>\n",
              "      <th>2</th>\n",
              "      <td>Fried Plaantain</td>\n",
              "      <td>0.328310</td>\n",
              "      <td>-0.037339</td>\n",
              "      <td>-0.070464</td>\n",
              "      <td>Red bottoms</td>\n",
              "    </tr>\n",
              "  </tbody>\n",
              "</table>\n",
              "</div>"
            ],
            "text/plain": [
              "               Food     Music   Clothes   Watches        Shoes\n",
              "0      Yam and Eggs -1.068670  0.371120 -0.730377      Addidas\n",
              "1  Eba and Oha Soup  0.391807 -1.774878 -0.824161     Hightops\n",
              "2   Fried Plaantain  0.328310 -0.037339 -0.070464  Red bottoms"
            ]
          },
          "execution_count": 60,
          "metadata": {},
          "output_type": "execute_result"
        }
      ],
      "source": [
        "df[\"Shoes\"] = [\"Addidas\", \"Hightops\", \"Red bottoms\"]\n",
        "df"
      ]
    },
    {
      "cell_type": "code",
      "execution_count": null,
      "metadata": {
        "id": "8AYZ6ukyHivW",
        "outputId": "39920c34-c29c-4283-a816-1f161514e157"
      },
      "outputs": [
        {
          "data": {
            "text/html": [
              "<div>\n",
              "<style scoped>\n",
              "    .dataframe tbody tr th:only-of-type {\n",
              "        vertical-align: middle;\n",
              "    }\n",
              "\n",
              "    .dataframe tbody tr th {\n",
              "        vertical-align: top;\n",
              "    }\n",
              "\n",
              "    .dataframe thead th {\n",
              "        text-align: right;\n",
              "    }\n",
              "</style>\n",
              "<table border=\"1\" class=\"dataframe\">\n",
              "  <thead>\n",
              "    <tr style=\"text-align: right;\">\n",
              "      <th></th>\n",
              "      <th>Food</th>\n",
              "      <th>Music</th>\n",
              "      <th>Clothes</th>\n",
              "      <th>Watches</th>\n",
              "      <th>Shoes</th>\n",
              "    </tr>\n",
              "  </thead>\n",
              "  <tbody>\n",
              "    <tr>\n",
              "      <th>0</th>\n",
              "      <td>Yam and Eggs</td>\n",
              "      <td>-1.068670</td>\n",
              "      <td>0.371120</td>\n",
              "      <td>Tissot</td>\n",
              "      <td>Addidas</td>\n",
              "    </tr>\n",
              "    <tr>\n",
              "      <th>1</th>\n",
              "      <td>Eba and Oha Soup</td>\n",
              "      <td>0.391807</td>\n",
              "      <td>-1.774878</td>\n",
              "      <td>Swatch</td>\n",
              "      <td>Hightops</td>\n",
              "    </tr>\n",
              "    <tr>\n",
              "      <th>2</th>\n",
              "      <td>Fried Plaantain</td>\n",
              "      <td>0.328310</td>\n",
              "      <td>-0.037339</td>\n",
              "      <td>NaN</td>\n",
              "      <td>Red bottoms</td>\n",
              "    </tr>\n",
              "  </tbody>\n",
              "</table>\n",
              "</div>"
            ],
            "text/plain": [
              "               Food     Music   Clothes Watches        Shoes\n",
              "0      Yam and Eggs -1.068670  0.371120  Tissot      Addidas\n",
              "1  Eba and Oha Soup  0.391807 -1.774878  Swatch     Hightops\n",
              "2   Fried Plaantain  0.328310 -0.037339     NaN  Red bottoms"
            ]
          },
          "execution_count": 62,
          "metadata": {},
          "output_type": "execute_result"
        }
      ],
      "source": [
        "df[\"Watches\"] = [\"Tissot\", \"Swatch\", np.nan]\n",
        "df"
      ]
    },
    {
      "cell_type": "code",
      "execution_count": null,
      "metadata": {
        "id": "0oIgyVjeHivW",
        "outputId": "0e4f487a-1ef4-4f01-b063-12a6cb21deb8"
      },
      "outputs": [
        {
          "data": {
            "text/plain": [
              "Index(['Food', 'Music', 'Clothes', 'Watches', 'Shoes'], dtype='object')"
            ]
          },
          "execution_count": 63,
          "metadata": {},
          "output_type": "execute_result"
        }
      ],
      "source": [
        "df.columns"
      ]
    },
    {
      "cell_type": "code",
      "execution_count": null,
      "metadata": {
        "id": "NQziU5IuHivW",
        "outputId": "31a38768-8716-4482-a5ba-e012e14f048c"
      },
      "outputs": [
        {
          "data": {
            "text/html": [
              "<div>\n",
              "<style scoped>\n",
              "    .dataframe tbody tr th:only-of-type {\n",
              "        vertical-align: middle;\n",
              "    }\n",
              "\n",
              "    .dataframe tbody tr th {\n",
              "        vertical-align: top;\n",
              "    }\n",
              "\n",
              "    .dataframe thead th {\n",
              "        text-align: right;\n",
              "    }\n",
              "</style>\n",
              "<table border=\"1\" class=\"dataframe\">\n",
              "  <thead>\n",
              "    <tr style=\"text-align: right;\">\n",
              "      <th></th>\n",
              "      <th>Music</th>\n",
              "      <th>Clothes</th>\n",
              "    </tr>\n",
              "  </thead>\n",
              "  <tbody>\n",
              "    <tr>\n",
              "      <th>count</th>\n",
              "      <td>3.000000</td>\n",
              "      <td>3.000000</td>\n",
              "    </tr>\n",
              "    <tr>\n",
              "      <th>mean</th>\n",
              "      <td>-0.116185</td>\n",
              "      <td>-0.480366</td>\n",
              "    </tr>\n",
              "    <tr>\n",
              "      <th>std</th>\n",
              "      <td>0.825488</td>\n",
              "      <td>1.139531</td>\n",
              "    </tr>\n",
              "    <tr>\n",
              "      <th>min</th>\n",
              "      <td>-1.068670</td>\n",
              "      <td>-1.774878</td>\n",
              "    </tr>\n",
              "    <tr>\n",
              "      <th>25%</th>\n",
              "      <td>-0.370180</td>\n",
              "      <td>-0.906108</td>\n",
              "    </tr>\n",
              "    <tr>\n",
              "      <th>50%</th>\n",
              "      <td>0.328310</td>\n",
              "      <td>-0.037339</td>\n",
              "    </tr>\n",
              "    <tr>\n",
              "      <th>75%</th>\n",
              "      <td>0.360058</td>\n",
              "      <td>0.166891</td>\n",
              "    </tr>\n",
              "    <tr>\n",
              "      <th>max</th>\n",
              "      <td>0.391807</td>\n",
              "      <td>0.371120</td>\n",
              "    </tr>\n",
              "  </tbody>\n",
              "</table>\n",
              "</div>"
            ],
            "text/plain": [
              "          Music   Clothes\n",
              "count  3.000000  3.000000\n",
              "mean  -0.116185 -0.480366\n",
              "std    0.825488  1.139531\n",
              "min   -1.068670 -1.774878\n",
              "25%   -0.370180 -0.906108\n",
              "50%    0.328310 -0.037339\n",
              "75%    0.360058  0.166891\n",
              "max    0.391807  0.371120"
            ]
          },
          "execution_count": 64,
          "metadata": {},
          "output_type": "execute_result"
        }
      ],
      "source": [
        "df.describe()"
      ]
    },
    {
      "cell_type": "code",
      "execution_count": null,
      "metadata": {
        "id": "Z7ExsWmRHivW",
        "outputId": "55a88b44-e2ce-4c3d-bf60-f42d19831e80"
      },
      "outputs": [
        {
          "data": {
            "text/html": [
              "<div>\n",
              "<style scoped>\n",
              "    .dataframe tbody tr th:only-of-type {\n",
              "        vertical-align: middle;\n",
              "    }\n",
              "\n",
              "    .dataframe tbody tr th {\n",
              "        vertical-align: top;\n",
              "    }\n",
              "\n",
              "    .dataframe thead th {\n",
              "        text-align: right;\n",
              "    }\n",
              "</style>\n",
              "<table border=\"1\" class=\"dataframe\">\n",
              "  <thead>\n",
              "    <tr style=\"text-align: right;\">\n",
              "      <th></th>\n",
              "      <th>Food</th>\n",
              "      <th>Music</th>\n",
              "      <th>Clothes</th>\n",
              "      <th>Watches</th>\n",
              "      <th>Shoes</th>\n",
              "    </tr>\n",
              "  </thead>\n",
              "  <tbody>\n",
              "    <tr>\n",
              "      <th>0</th>\n",
              "      <td>Yam and Eggs</td>\n",
              "      <td>-1.068670</td>\n",
              "      <td>0.371120</td>\n",
              "      <td>Tissot</td>\n",
              "      <td>Addidas</td>\n",
              "    </tr>\n",
              "    <tr>\n",
              "      <th>2</th>\n",
              "      <td>Fried Plaantain</td>\n",
              "      <td>0.328310</td>\n",
              "      <td>-0.037339</td>\n",
              "      <td>NaN</td>\n",
              "      <td>Red bottoms</td>\n",
              "    </tr>\n",
              "    <tr>\n",
              "      <th>1</th>\n",
              "      <td>Eba and Oha Soup</td>\n",
              "      <td>0.391807</td>\n",
              "      <td>-1.774878</td>\n",
              "      <td>Swatch</td>\n",
              "      <td>Hightops</td>\n",
              "    </tr>\n",
              "  </tbody>\n",
              "</table>\n",
              "</div>"
            ],
            "text/plain": [
              "               Food     Music   Clothes Watches        Shoes\n",
              "0      Yam and Eggs -1.068670  0.371120  Tissot      Addidas\n",
              "2   Fried Plaantain  0.328310 -0.037339     NaN  Red bottoms\n",
              "1  Eba and Oha Soup  0.391807 -1.774878  Swatch     Hightops"
            ]
          },
          "execution_count": 65,
          "metadata": {},
          "output_type": "execute_result"
        }
      ],
      "source": [
        "df.sort_values(by = \"Music\")"
      ]
    },
    {
      "cell_type": "code",
      "execution_count": null,
      "metadata": {
        "id": "zVw42BPrHivW",
        "outputId": "73a35545-608e-4f42-ac15-9231139b3c9d"
      },
      "outputs": [
        {
          "data": {
            "text/plain": [
              "Food       Eba and Oha Soup\n",
              "Music              0.391807\n",
              "Clothes            -1.77488\n",
              "Watches              Swatch\n",
              "Shoes              Hightops\n",
              "Name: 1, dtype: object"
            ]
          },
          "execution_count": 68,
          "metadata": {},
          "output_type": "execute_result"
        }
      ],
      "source": [
        " df.loc[1]"
      ]
    },
    {
      "cell_type": "code",
      "execution_count": null,
      "metadata": {
        "id": "kMlsIoCGHivW",
        "outputId": "a81a89bf-68b7-4b49-a352-7ac97cf6de77"
      },
      "outputs": [
        {
          "data": {
            "text/html": [
              "<div>\n",
              "<style scoped>\n",
              "    .dataframe tbody tr th:only-of-type {\n",
              "        vertical-align: middle;\n",
              "    }\n",
              "\n",
              "    .dataframe tbody tr th {\n",
              "        vertical-align: top;\n",
              "    }\n",
              "\n",
              "    .dataframe thead th {\n",
              "        text-align: right;\n",
              "    }\n",
              "</style>\n",
              "<table border=\"1\" class=\"dataframe\">\n",
              "  <thead>\n",
              "    <tr style=\"text-align: right;\">\n",
              "      <th></th>\n",
              "      <th>Food</th>\n",
              "      <th>Shoes</th>\n",
              "    </tr>\n",
              "  </thead>\n",
              "  <tbody>\n",
              "    <tr>\n",
              "      <th>0</th>\n",
              "      <td>Yam and Eggs</td>\n",
              "      <td>Addidas</td>\n",
              "    </tr>\n",
              "    <tr>\n",
              "      <th>1</th>\n",
              "      <td>Eba and Oha Soup</td>\n",
              "      <td>Hightops</td>\n",
              "    </tr>\n",
              "    <tr>\n",
              "      <th>2</th>\n",
              "      <td>Fried Plaantain</td>\n",
              "      <td>Red bottoms</td>\n",
              "    </tr>\n",
              "  </tbody>\n",
              "</table>\n",
              "</div>"
            ],
            "text/plain": [
              "               Food        Shoes\n",
              "0      Yam and Eggs      Addidas\n",
              "1  Eba and Oha Soup     Hightops\n",
              "2   Fried Plaantain  Red bottoms"
            ]
          },
          "execution_count": 75,
          "metadata": {},
          "output_type": "execute_result"
        }
      ],
      "source": [
        "df.loc[: , [\"Food\", \"Shoes\"]]"
      ]
    },
    {
      "cell_type": "code",
      "execution_count": null,
      "metadata": {
        "id": "HAK7SUObHivX",
        "outputId": "7de96a1c-fe1e-49bd-e710-0bd29172cf67"
      },
      "outputs": [
        {
          "data": {
            "text/plain": [
              "'Yam and Eggs'"
            ]
          },
          "execution_count": 77,
          "metadata": {},
          "output_type": "execute_result"
        }
      ],
      "source": [
        "df.loc[0, \"Food\"]"
      ]
    },
    {
      "cell_type": "code",
      "execution_count": null,
      "metadata": {
        "id": "IfXFoulpHivX",
        "outputId": "c9f9e6aa-8aab-4d91-da7d-4c84bc6b3616"
      },
      "outputs": [
        {
          "data": {
            "text/plain": [
              "'Tissot'"
            ]
          },
          "execution_count": 81,
          "metadata": {},
          "output_type": "execute_result"
        }
      ],
      "source": [
        "df.iloc[0,3]"
      ]
    },
    {
      "cell_type": "code",
      "execution_count": null,
      "metadata": {
        "id": "uGaolTskHivX"
      },
      "outputs": [],
      "source": [
        "df.loc[:, \"Music\"]=np.array([5.]*len(df))"
      ]
    },
    {
      "cell_type": "code",
      "execution_count": null,
      "metadata": {
        "id": "8HybMGzOHivX",
        "outputId": "a766adad-e26d-410f-d219-4b0734c191be"
      },
      "outputs": [
        {
          "data": {
            "text/html": [
              "<div>\n",
              "<style scoped>\n",
              "    .dataframe tbody tr th:only-of-type {\n",
              "        vertical-align: middle;\n",
              "    }\n",
              "\n",
              "    .dataframe tbody tr th {\n",
              "        vertical-align: top;\n",
              "    }\n",
              "\n",
              "    .dataframe thead th {\n",
              "        text-align: right;\n",
              "    }\n",
              "</style>\n",
              "<table border=\"1\" class=\"dataframe\">\n",
              "  <thead>\n",
              "    <tr style=\"text-align: right;\">\n",
              "      <th></th>\n",
              "      <th>Food</th>\n",
              "      <th>Music</th>\n",
              "      <th>Clothes</th>\n",
              "      <th>Watches</th>\n",
              "      <th>Shoes</th>\n",
              "    </tr>\n",
              "  </thead>\n",
              "  <tbody>\n",
              "    <tr>\n",
              "      <th>0</th>\n",
              "      <td>Yam and Eggs</td>\n",
              "      <td>5.0</td>\n",
              "      <td>0.371120</td>\n",
              "      <td>Tissot</td>\n",
              "      <td>Addidas</td>\n",
              "    </tr>\n",
              "    <tr>\n",
              "      <th>1</th>\n",
              "      <td>Eba and Oha Soup</td>\n",
              "      <td>5.0</td>\n",
              "      <td>-1.774878</td>\n",
              "      <td>Swatch</td>\n",
              "      <td>Hightops</td>\n",
              "    </tr>\n",
              "    <tr>\n",
              "      <th>2</th>\n",
              "      <td>Fried Plaantain</td>\n",
              "      <td>5.0</td>\n",
              "      <td>-0.037339</td>\n",
              "      <td>NaN</td>\n",
              "      <td>Red bottoms</td>\n",
              "    </tr>\n",
              "  </tbody>\n",
              "</table>\n",
              "</div>"
            ],
            "text/plain": [
              "               Food  Music   Clothes Watches        Shoes\n",
              "0      Yam and Eggs    5.0  0.371120  Tissot      Addidas\n",
              "1  Eba and Oha Soup    5.0 -1.774878  Swatch     Hightops\n",
              "2   Fried Plaantain    5.0 -0.037339     NaN  Red bottoms"
            ]
          },
          "execution_count": 83,
          "metadata": {},
          "output_type": "execute_result"
        }
      ],
      "source": [
        "df"
      ]
    },
    {
      "cell_type": "code",
      "execution_count": null,
      "metadata": {
        "id": "k92qcdERHivX"
      },
      "outputs": [],
      "source": [
        "df1 = df.reindex([1,2,3], fill_value = \"any\")"
      ]
    },
    {
      "cell_type": "code",
      "execution_count": null,
      "metadata": {
        "id": "w5tiqhMGHivX",
        "outputId": "f79d76ad-fba9-44bb-96d5-a01d529da089"
      },
      "outputs": [
        {
          "data": {
            "text/html": [
              "<div>\n",
              "<style scoped>\n",
              "    .dataframe tbody tr th:only-of-type {\n",
              "        vertical-align: middle;\n",
              "    }\n",
              "\n",
              "    .dataframe tbody tr th {\n",
              "        vertical-align: top;\n",
              "    }\n",
              "\n",
              "    .dataframe thead th {\n",
              "        text-align: right;\n",
              "    }\n",
              "</style>\n",
              "<table border=\"1\" class=\"dataframe\">\n",
              "  <thead>\n",
              "    <tr style=\"text-align: right;\">\n",
              "      <th></th>\n",
              "      <th>Food</th>\n",
              "      <th>Music</th>\n",
              "      <th>Clothes</th>\n",
              "      <th>Watches</th>\n",
              "      <th>Shoes</th>\n",
              "    </tr>\n",
              "  </thead>\n",
              "  <tbody>\n",
              "    <tr>\n",
              "      <th>1</th>\n",
              "      <td>Eba and Oha Soup</td>\n",
              "      <td>5</td>\n",
              "      <td>-1.77488</td>\n",
              "      <td>Swatch</td>\n",
              "      <td>Hightops</td>\n",
              "    </tr>\n",
              "    <tr>\n",
              "      <th>2</th>\n",
              "      <td>Fried Plaantain</td>\n",
              "      <td>5</td>\n",
              "      <td>-0.0373389</td>\n",
              "      <td>NaN</td>\n",
              "      <td>Red bottoms</td>\n",
              "    </tr>\n",
              "    <tr>\n",
              "      <th>3</th>\n",
              "      <td>any</td>\n",
              "      <td>any</td>\n",
              "      <td>any</td>\n",
              "      <td>any</td>\n",
              "      <td>any</td>\n",
              "    </tr>\n",
              "  </tbody>\n",
              "</table>\n",
              "</div>"
            ],
            "text/plain": [
              "               Food Music    Clothes Watches        Shoes\n",
              "1  Eba and Oha Soup     5   -1.77488  Swatch     Hightops\n",
              "2   Fried Plaantain     5 -0.0373389     NaN  Red bottoms\n",
              "3               any   any        any     any          any"
            ]
          },
          "execution_count": 86,
          "metadata": {},
          "output_type": "execute_result"
        }
      ],
      "source": [
        "df1 \n"
      ]
    },
    {
      "cell_type": "code",
      "execution_count": null,
      "metadata": {
        "id": "2y1NCvv_HivX",
        "outputId": "f43191a5-35a1-490c-9f73-3606d5ca447e"
      },
      "outputs": [
        {
          "data": {
            "text/html": [
              "<div>\n",
              "<style scoped>\n",
              "    .dataframe tbody tr th:only-of-type {\n",
              "        vertical-align: middle;\n",
              "    }\n",
              "\n",
              "    .dataframe tbody tr th {\n",
              "        vertical-align: top;\n",
              "    }\n",
              "\n",
              "    .dataframe thead th {\n",
              "        text-align: right;\n",
              "    }\n",
              "</style>\n",
              "<table border=\"1\" class=\"dataframe\">\n",
              "  <thead>\n",
              "    <tr style=\"text-align: right;\">\n",
              "      <th></th>\n",
              "      <th>Food</th>\n",
              "      <th>Music</th>\n",
              "      <th>Clothes</th>\n",
              "      <th>Watches</th>\n",
              "      <th>Shoes</th>\n",
              "    </tr>\n",
              "  </thead>\n",
              "  <tbody>\n",
              "    <tr>\n",
              "      <th>1</th>\n",
              "      <td>Eba and Oha Soup</td>\n",
              "      <td>5</td>\n",
              "      <td>-1.77488</td>\n",
              "      <td>Swatch</td>\n",
              "      <td>Hightops</td>\n",
              "    </tr>\n",
              "    <tr>\n",
              "      <th>2</th>\n",
              "      <td>Fried Plaantain</td>\n",
              "      <td>5</td>\n",
              "      <td>-0.0373389</td>\n",
              "      <td>NaN</td>\n",
              "      <td>Red bottoms</td>\n",
              "    </tr>\n",
              "    <tr>\n",
              "      <th>3</th>\n",
              "      <td>any</td>\n",
              "      <td>any</td>\n",
              "      <td>any</td>\n",
              "      <td>any</td>\n",
              "      <td>any</td>\n",
              "    </tr>\n",
              "  </tbody>\n",
              "</table>\n",
              "</div>"
            ],
            "text/plain": [
              "               Food Music    Clothes Watches        Shoes\n",
              "1  Eba and Oha Soup     5   -1.77488  Swatch     Hightops\n",
              "2   Fried Plaantain     5 -0.0373389     NaN  Red bottoms\n",
              "3               any   any        any     any          any"
            ]
          },
          "execution_count": 93,
          "metadata": {},
          "output_type": "execute_result"
        }
      ],
      "source": [
        "df1.fillna(4)\n",
        "\n",
        "df1\n"
      ]
    },
    {
      "cell_type": "code",
      "execution_count": null,
      "metadata": {
        "id": "TiAylDRLHivX",
        "outputId": "05984d90-8519-4234-d02b-daf41f66a81f"
      },
      "outputs": [
        {
          "data": {
            "text/html": [
              "<div>\n",
              "<style scoped>\n",
              "    .dataframe tbody tr th:only-of-type {\n",
              "        vertical-align: middle;\n",
              "    }\n",
              "\n",
              "    .dataframe tbody tr th {\n",
              "        vertical-align: top;\n",
              "    }\n",
              "\n",
              "    .dataframe thead th {\n",
              "        text-align: right;\n",
              "    }\n",
              "</style>\n",
              "<table border=\"1\" class=\"dataframe\">\n",
              "  <thead>\n",
              "    <tr style=\"text-align: right;\">\n",
              "      <th></th>\n",
              "      <th>Food</th>\n",
              "      <th>Music</th>\n",
              "      <th>Clothes</th>\n",
              "      <th>Watches</th>\n",
              "      <th>Shoes</th>\n",
              "    </tr>\n",
              "  </thead>\n",
              "  <tbody>\n",
              "    <tr>\n",
              "      <th>1</th>\n",
              "      <td>Eba and Oha Soup</td>\n",
              "      <td>5</td>\n",
              "      <td>-1.77488</td>\n",
              "      <td>Swatch</td>\n",
              "      <td>Hightops</td>\n",
              "    </tr>\n",
              "    <tr>\n",
              "      <th>2</th>\n",
              "      <td>Fried Plaantain</td>\n",
              "      <td>5</td>\n",
              "      <td>-0.0373389</td>\n",
              "      <td>NaN</td>\n",
              "      <td>Red bottoms</td>\n",
              "    </tr>\n",
              "    <tr>\n",
              "      <th>3</th>\n",
              "      <td>any</td>\n",
              "      <td>any</td>\n",
              "      <td>any</td>\n",
              "      <td>any</td>\n",
              "      <td>any</td>\n",
              "    </tr>\n",
              "  </tbody>\n",
              "</table>\n",
              "</div>"
            ],
            "text/plain": [
              "               Food Music    Clothes Watches        Shoes\n",
              "1  Eba and Oha Soup     5   -1.77488  Swatch     Hightops\n",
              "2   Fried Plaantain     5 -0.0373389     NaN  Red bottoms\n",
              "3               any   any        any     any          any"
            ]
          },
          "execution_count": 94,
          "metadata": {},
          "output_type": "execute_result"
        }
      ],
      "source": [
        "df1.fillna(4)\n",
        "\n",
        "df1\n"
      ]
    },
    {
      "cell_type": "code",
      "execution_count": null,
      "metadata": {
        "id": "Tw-nbSXhHivY",
        "outputId": "73eaf1b2-1eb9-47d3-e9ff-1ddad02f9e93"
      },
      "outputs": [
        {
          "data": {
            "text/html": [
              "<div>\n",
              "<style scoped>\n",
              "    .dataframe tbody tr th:only-of-type {\n",
              "        vertical-align: middle;\n",
              "    }\n",
              "\n",
              "    .dataframe tbody tr th {\n",
              "        vertical-align: top;\n",
              "    }\n",
              "\n",
              "    .dataframe thead th {\n",
              "        text-align: right;\n",
              "    }\n",
              "</style>\n",
              "<table border=\"1\" class=\"dataframe\">\n",
              "  <thead>\n",
              "    <tr style=\"text-align: right;\">\n",
              "      <th></th>\n",
              "      <th>Food</th>\n",
              "      <th>Music</th>\n",
              "      <th>Clothes</th>\n",
              "      <th>Watches</th>\n",
              "      <th>Shoes</th>\n",
              "    </tr>\n",
              "  </thead>\n",
              "  <tbody>\n",
              "    <tr>\n",
              "      <th>0</th>\n",
              "      <td>Yam and Eggs</td>\n",
              "      <td>5.0</td>\n",
              "      <td>0.371120</td>\n",
              "      <td>Tissot</td>\n",
              "      <td>Addidas</td>\n",
              "    </tr>\n",
              "    <tr>\n",
              "      <th>1</th>\n",
              "      <td>Eba and Oha Soup</td>\n",
              "      <td>5.0</td>\n",
              "      <td>-1.774878</td>\n",
              "      <td>Swatch</td>\n",
              "      <td>Hightops</td>\n",
              "    </tr>\n",
              "    <tr>\n",
              "      <th>2</th>\n",
              "      <td>Fried Plaantain</td>\n",
              "      <td>5.0</td>\n",
              "      <td>-0.037339</td>\n",
              "      <td>NaN</td>\n",
              "      <td>Red bottoms</td>\n",
              "    </tr>\n",
              "  </tbody>\n",
              "</table>\n",
              "</div>"
            ],
            "text/plain": [
              "               Food  Music   Clothes Watches        Shoes\n",
              "0      Yam and Eggs    5.0  0.371120  Tissot      Addidas\n",
              "1  Eba and Oha Soup    5.0 -1.774878  Swatch     Hightops\n",
              "2   Fried Plaantain    5.0 -0.037339     NaN  Red bottoms"
            ]
          },
          "execution_count": 95,
          "metadata": {},
          "output_type": "execute_result"
        }
      ],
      "source": [
        "df.fillna(\"Yooo\")\n",
        "df"
      ]
    },
    {
      "cell_type": "code",
      "execution_count": null,
      "metadata": {
        "id": "1Mfq3uYaHivY",
        "outputId": "4a66906e-b281-4ff4-d5a5-f93bb4aaca71"
      },
      "outputs": [
        {
          "data": {
            "text/html": [
              "<div>\n",
              "<style scoped>\n",
              "    .dataframe tbody tr th:only-of-type {\n",
              "        vertical-align: middle;\n",
              "    }\n",
              "\n",
              "    .dataframe tbody tr th {\n",
              "        vertical-align: top;\n",
              "    }\n",
              "\n",
              "    .dataframe thead th {\n",
              "        text-align: right;\n",
              "    }\n",
              "</style>\n",
              "<table border=\"1\" class=\"dataframe\">\n",
              "  <thead>\n",
              "    <tr style=\"text-align: right;\">\n",
              "      <th></th>\n",
              "      <th>class</th>\n",
              "      <th>order</th>\n",
              "      <th>max_speed</th>\n",
              "    </tr>\n",
              "  </thead>\n",
              "  <tbody>\n",
              "    <tr>\n",
              "      <th>falcon</th>\n",
              "      <td>bird</td>\n",
              "      <td>Falconiformes</td>\n",
              "      <td>389.0</td>\n",
              "    </tr>\n",
              "    <tr>\n",
              "      <th>parrot</th>\n",
              "      <td>bird</td>\n",
              "      <td>Psittaciformes</td>\n",
              "      <td>24.0</td>\n",
              "    </tr>\n",
              "    <tr>\n",
              "      <th>lion</th>\n",
              "      <td>mammal</td>\n",
              "      <td>Carnivora</td>\n",
              "      <td>80.2</td>\n",
              "    </tr>\n",
              "    <tr>\n",
              "      <th>monkey</th>\n",
              "      <td>mammal</td>\n",
              "      <td>Primates</td>\n",
              "      <td>NaN</td>\n",
              "    </tr>\n",
              "    <tr>\n",
              "      <th>leopard</th>\n",
              "      <td>mammal</td>\n",
              "      <td>Carnivora</td>\n",
              "      <td>58.0</td>\n",
              "    </tr>\n",
              "  </tbody>\n",
              "</table>\n",
              "</div>"
            ],
            "text/plain": [
              "          class           order  max_speed\n",
              "falcon     bird   Falconiformes      389.0\n",
              "parrot     bird  Psittaciformes       24.0\n",
              "lion     mammal       Carnivora       80.2\n",
              "monkey   mammal        Primates        NaN\n",
              "leopard  mammal       Carnivora       58.0"
            ]
          },
          "execution_count": 96,
          "metadata": {},
          "output_type": "execute_result"
        }
      ],
      "source": [
        "df = pd.DataFrame([('bird', 'Falconiformes', 389.0),\n",
        "                   ('bird', 'Psittaciformes', 24.0),\n",
        "                   ('mammal', 'Carnivora', 80.2),\n",
        "                   ('mammal', 'Primates', np.nan),\n",
        "                   ('mammal', 'Carnivora', 58)],\n",
        "                    index=['falcon', 'parrot', 'lion', 'monkey', 'leopard'],\n",
        "                    columns=('class', 'order', 'max_speed'))\n",
        "df"
      ]
    },
    {
      "cell_type": "code",
      "execution_count": null,
      "metadata": {
        "id": "X7hB6a3lHivY"
      },
      "outputs": [],
      "source": [
        "grouped = df.groupby('class')"
      ]
    },
    {
      "cell_type": "code",
      "execution_count": null,
      "metadata": {
        "id": "VYXQ4QZCHivY",
        "outputId": "bf6c9b46-e21c-4d59-ebf1-58355ceebefb"
      },
      "outputs": [
        {
          "data": {
            "text/html": [
              "<div>\n",
              "<style scoped>\n",
              "    .dataframe tbody tr th:only-of-type {\n",
              "        vertical-align: middle;\n",
              "    }\n",
              "\n",
              "    .dataframe tbody tr th {\n",
              "        vertical-align: top;\n",
              "    }\n",
              "\n",
              "    .dataframe thead th {\n",
              "        text-align: right;\n",
              "    }\n",
              "</style>\n",
              "<table border=\"1\" class=\"dataframe\">\n",
              "  <thead>\n",
              "    <tr style=\"text-align: right;\">\n",
              "      <th></th>\n",
              "      <th>class</th>\n",
              "      <th>order</th>\n",
              "      <th>max_speed</th>\n",
              "    </tr>\n",
              "  </thead>\n",
              "  <tbody>\n",
              "    <tr>\n",
              "      <th>falcon</th>\n",
              "      <td>bird</td>\n",
              "      <td>Falconiformes</td>\n",
              "      <td>389.0</td>\n",
              "    </tr>\n",
              "    <tr>\n",
              "      <th>parrot</th>\n",
              "      <td>bird</td>\n",
              "      <td>Psittaciformes</td>\n",
              "      <td>24.0</td>\n",
              "    </tr>\n",
              "    <tr>\n",
              "      <th>lion</th>\n",
              "      <td>mammal</td>\n",
              "      <td>Carnivora</td>\n",
              "      <td>80.2</td>\n",
              "    </tr>\n",
              "    <tr>\n",
              "      <th>monkey</th>\n",
              "      <td>mammal</td>\n",
              "      <td>Primates</td>\n",
              "      <td>NaN</td>\n",
              "    </tr>\n",
              "    <tr>\n",
              "      <th>leopard</th>\n",
              "      <td>mammal</td>\n",
              "      <td>Carnivora</td>\n",
              "      <td>58.0</td>\n",
              "    </tr>\n",
              "  </tbody>\n",
              "</table>\n",
              "</div>"
            ],
            "text/plain": [
              "          class           order  max_speed\n",
              "falcon     bird   Falconiformes      389.0\n",
              "parrot     bird  Psittaciformes       24.0\n",
              "lion     mammal       Carnivora       80.2\n",
              "monkey   mammal        Primates        NaN\n",
              "leopard  mammal       Carnivora       58.0"
            ]
          },
          "execution_count": 98,
          "metadata": {},
          "output_type": "execute_result"
        }
      ],
      "source": [
        "df"
      ]
    },
    {
      "cell_type": "code",
      "execution_count": null,
      "metadata": {
        "id": "Si38jO-jHivY"
      },
      "outputs": [],
      "source": [
        "grouped = df.groupby('order', axis='columns')"
      ]
    },
    {
      "cell_type": "code",
      "execution_count": null,
      "metadata": {
        "id": "d_yYzunaHivY",
        "outputId": "81cd6eea-0dcd-4215-dcb7-02aeac0ab762"
      },
      "outputs": [
        {
          "data": {
            "text/plain": [
              "<pandas.core.groupby.generic.DataFrameGroupBy object at 0x05C0D570>"
            ]
          },
          "execution_count": 101,
          "metadata": {},
          "output_type": "execute_result"
        }
      ],
      "source": [
        "grouped"
      ]
    },
    {
      "cell_type": "code",
      "execution_count": null,
      "metadata": {
        "id": "n2eLIcrBHivY",
        "outputId": "5693c064-b584-4e45-9b9e-0b82eaf73d03"
      },
      "outputs": [
        {
          "data": {
            "text/plain": [
              "<pandas.core.groupby.generic.DataFrameGroupBy object at 0x01569DF0>"
            ]
          },
          "execution_count": 102,
          "metadata": {},
          "output_type": "execute_result"
        }
      ],
      "source": [
        "grouped = df.groupby(['class', 'order'])\n",
        "grouped"
      ]
    },
    {
      "cell_type": "code",
      "execution_count": null,
      "metadata": {
        "id": "xeXF662BHivZ",
        "outputId": "97f9e9aa-575c-4062-c8cc-9a8c5e86cce3"
      },
      "outputs": [
        {
          "data": {
            "text/html": [
              "<div>\n",
              "<style scoped>\n",
              "    .dataframe tbody tr th:only-of-type {\n",
              "        vertical-align: middle;\n",
              "    }\n",
              "\n",
              "    .dataframe tbody tr th {\n",
              "        vertical-align: top;\n",
              "    }\n",
              "\n",
              "    .dataframe thead th {\n",
              "        text-align: right;\n",
              "    }\n",
              "</style>\n",
              "<table border=\"1\" class=\"dataframe\">\n",
              "  <thead>\n",
              "    <tr style=\"text-align: right;\">\n",
              "      <th></th>\n",
              "      <th>class</th>\n",
              "      <th>order</th>\n",
              "      <th>max_speed</th>\n",
              "    </tr>\n",
              "  </thead>\n",
              "  <tbody>\n",
              "    <tr>\n",
              "      <th>falcon</th>\n",
              "      <td>bird</td>\n",
              "      <td>Falconiformes</td>\n",
              "      <td>389.0</td>\n",
              "    </tr>\n",
              "    <tr>\n",
              "      <th>parrot</th>\n",
              "      <td>bird</td>\n",
              "      <td>Psittaciformes</td>\n",
              "      <td>24.0</td>\n",
              "    </tr>\n",
              "    <tr>\n",
              "      <th>lion</th>\n",
              "      <td>mammal</td>\n",
              "      <td>Carnivora</td>\n",
              "      <td>80.2</td>\n",
              "    </tr>\n",
              "    <tr>\n",
              "      <th>monkey</th>\n",
              "      <td>mammal</td>\n",
              "      <td>Primates</td>\n",
              "      <td>NaN</td>\n",
              "    </tr>\n",
              "    <tr>\n",
              "      <th>leopard</th>\n",
              "      <td>mammal</td>\n",
              "      <td>Carnivora</td>\n",
              "      <td>58.0</td>\n",
              "    </tr>\n",
              "  </tbody>\n",
              "</table>\n",
              "</div>"
            ],
            "text/plain": [
              "          class           order  max_speed\n",
              "falcon     bird   Falconiformes      389.0\n",
              "parrot     bird  Psittaciformes       24.0\n",
              "lion     mammal       Carnivora       80.2\n",
              "monkey   mammal        Primates        NaN\n",
              "leopard  mammal       Carnivora       58.0"
            ]
          },
          "execution_count": 104,
          "metadata": {},
          "output_type": "execute_result"
        }
      ],
      "source": [
        "df"
      ]
    },
    {
      "cell_type": "code",
      "execution_count": null,
      "metadata": {
        "id": "tp9GiNAzHivZ",
        "outputId": "f49cafe0-0d1a-4081-9f34-761918270c15"
      },
      "outputs": [
        {
          "data": {
            "text/plain": [
              "<pandas.core.groupby.generic.DataFrameGroupBy object at 0x01569710>"
            ]
          },
          "execution_count": 105,
          "metadata": {},
          "output_type": "execute_result"
        }
      ],
      "source": [
        "df.groupby(\"order\")"
      ]
    },
    {
      "cell_type": "code",
      "execution_count": null,
      "metadata": {
        "id": "zdOoZxXKHivZ",
        "outputId": "cb96de1a-398b-4c6e-f021-849b93b98c67"
      },
      "outputs": [
        {
          "data": {
            "text/plain": [
              "2012-01-01 00:00:00    377\n",
              "2012-01-01 00:00:01    136\n",
              "2012-01-01 00:00:02    335\n",
              "2012-01-01 00:00:03    274\n",
              "2012-01-01 00:00:04    215\n",
              "                      ... \n",
              "2012-01-01 00:01:35    249\n",
              "2012-01-01 00:01:36     19\n",
              "2012-01-01 00:01:37     60\n",
              "2012-01-01 00:01:38    463\n",
              "2012-01-01 00:01:39    259\n",
              "Freq: S, Length: 100, dtype: int32"
            ]
          },
          "execution_count": 106,
          "metadata": {},
          "output_type": "execute_result"
        }
      ],
      "source": [
        "rng = pd.date_range('1/1/2012', periods=100, freq='S')\n",
        "ts = pd.Series(np.random.randint(0, 500, len(rng)), index=rng)\n",
        "ts"
      ]
    },
    {
      "cell_type": "code",
      "execution_count": null,
      "metadata": {
        "id": "MKnU5LpiHivZ",
        "outputId": "22880191-385b-4840-cfb2-63307a00702f"
      },
      "outputs": [
        {
          "data": {
            "text/plain": [
              "2012-01-01    23728\n",
              "Freq: 5T, dtype: int32"
            ]
          },
          "execution_count": 107,
          "metadata": {},
          "output_type": "execute_result"
        }
      ],
      "source": [
        "ts.resample('5Min').sum()"
      ]
    },
    {
      "cell_type": "code",
      "execution_count": null,
      "metadata": {
        "id": "TTFSU-heHivZ"
      },
      "outputs": [],
      "source": []
    }
  ],
  "metadata": {
    "kernelspec": {
      "display_name": "Python 3",
      "language": "python",
      "name": "python3"
    },
    "language_info": {
      "codemirror_mode": {
        "name": "ipython",
        "version": 3
      },
      "file_extension": ".py",
      "mimetype": "text/x-python",
      "name": "python",
      "nbconvert_exporter": "python",
      "pygments_lexer": "ipython3",
      "version": "3.7.6"
    },
    "colab": {
      "provenance": [],
      "include_colab_link": true
    }
  },
  "nbformat": 4,
  "nbformat_minor": 0
}